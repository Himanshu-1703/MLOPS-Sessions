{
  "nbformat": 4,
  "nbformat_minor": 0,
  "metadata": {
    "colab": {
      "provenance": [],
      "authorship_tag": "ABX9TyM7T6P08fHLGpyk1PU8fV9P"
    },
    "kernelspec": {
      "name": "python3",
      "display_name": "Python 3"
    },
    "language_info": {
      "name": "python"
    }
  },
  "cells": [
    {
      "cell_type": "markdown",
      "source": [
        "# Commands used in day to day tasks"
      ],
      "metadata": {
        "id": "OIXPgElTfcM1"
      }
    },
    {
      "cell_type": "markdown",
      "source": [
        "## Bash Commands"
      ],
      "metadata": {
        "id": "EULwIKokmYwJ"
      }
    },
    {
      "cell_type": "markdown",
      "source": [
        "1. **ls**: Lists files and directories in the current directory.\n",
        "   Example:\n",
        "   ```bash\n",
        "   ls\n",
        "   ```\n",
        "   This command is used to view the contents of the current directory. It's often the first command you'll use when navigating the file system.\n",
        "\n",
        "2. **cd**: Changes the current directory.\n",
        "   Example:\n",
        "   ```bash\n",
        "   cd /path/to/directory\n",
        "   ```\n",
        "   Used to navigate through directories in the file system. You specify the directory you want to move to as an argument.\n",
        "\n",
        "3. **mkdir**: Creates a new directory.\n",
        "   Example:\n",
        "   ```bash\n",
        "   mkdir new_directory\n",
        "   ```\n",
        "   This command is used to create a new directory with the specified name in the current directory.\n",
        "\n",
        "4. **rm**: Removes files or directories.\n",
        "   Example:\n",
        "   ```bash\n",
        "   rm file.txt\n",
        "   ```\n",
        "   Deletes files or directories. Be cautious as it permanently removes them from the system.\n",
        "\n",
        "5. **cp**: Copies files or directories.\n",
        "   Example:\n",
        "   ```bash\n",
        "   cp file.txt new_location/\n",
        "   ```\n",
        "   Copies files or directories from one location to another. It duplicates the specified files or directories.\n",
        "\n",
        "6. **mv**: Moves or renames files or directories.\n",
        "   Example:\n",
        "   ```bash\n",
        "   mv file.txt new_location/\n",
        "   ```\n",
        "   Moves files or directories from one location to another. It can also rename files or directories by specifying a new name.\n",
        "\n",
        "7. **touch**: Creates a new file.\n",
        "   Example:\n",
        "   ```bash\n",
        "   touch new_file.txt\n",
        "   ```\n",
        "   This command is used to create a new, empty file with the specified name in the current directory.\n",
        "\n",
        "8. **cat**: Concatenates files and prints on the standard output.\n",
        "   Example:\n",
        "   ```bash\n",
        "   cat file1.txt file2.txt\n",
        "   ```\n",
        "   Displays the contents of one or more files in the terminal. It can also be used to concatenate files and display them.\n",
        "\n",
        "9. **echo**: Prints arguments to the standard output.\n",
        "    Example:\n",
        "    ```bash\n",
        "    echo \"Hello, world!\"\n",
        "    ```\n",
        "    Outputs the specified text or variables to the terminal. It's commonly used for printing messages or variables in shell scripts.\n",
        "\n",
        "10. **pwd**: Prints the current working directory.\n",
        "    Example:\n",
        "    ```bash\n",
        "    pwd\n",
        "    ```\n",
        "    Displays the full path of the current working directory. It's helpful for knowing your current location in the file system."
      ],
      "metadata": {
        "id": "iIpPbyEIhHHK"
      }
    },
    {
      "cell_type": "markdown",
      "source": [
        "> **Note**: Bash commands work on Windows only after installing Windows Subsystem for Linux (WSL) 2, which provides a Linux environment within Windows, enabling the execution of Bash commands through PowerShell or directly in the WSL terminal."
      ],
      "metadata": {
        "id": "xSTFKMeYhKAV"
      }
    },
    {
      "cell_type": "markdown",
      "source": [
        "### Using them on Windows machine"
      ],
      "metadata": {
        "id": "mZ3ri3CEmdGc"
      }
    },
    {
      "cell_type": "markdown",
      "source": [
        "[How to install WSL on windows machine](https://learn.microsoft.com/en-us/windows/wsl/install#install-wsl-command)\n",
        "\n",
        "```\n",
        "wsl --install\n",
        "```"
      ],
      "metadata": {
        "id": "SSEW-erWh5dw"
      }
    },
    {
      "cell_type": "markdown",
      "source": [
        "## Command Prompt"
      ],
      "metadata": {
        "id": "JIBR59YIllny"
      }
    },
    {
      "cell_type": "markdown",
      "source": [
        "1. **dir**: Lists files and directories in the current directory.\n",
        "   Example:\n",
        "   ```cmd\n",
        "   dir\n",
        "   ```\n",
        "   Displays a list of files and subdirectories in the current directory.\n",
        "\n",
        "2. **cd**: Changes the current directory.\n",
        "   Example:\n",
        "   ```cmd\n",
        "   cd C:\\path\\to\\directory\n",
        "   ```\n",
        "   Changes the current directory to the specified path.\n",
        "\n",
        "3. **mkdir**: Creates a new directory.\n",
        "   Example:\n",
        "   ```cmd\n",
        "   mkdir new_directory\n",
        "   ```\n",
        "   Creates a new directory with the specified name in the current directory.\n",
        "\n",
        "4. **del**: Deletes files.\n",
        "   Example:\n",
        "   ```cmd\n",
        "   del file.txt\n",
        "   ```\n",
        "   Deletes the specified file.\n",
        "\n",
        "5. **copy**: Copies files.\n",
        "   Example:\n",
        "   ```cmd\n",
        "   copy file.txt new_location\\\n",
        "   ```\n",
        "   Copies the specified file to the specified location.\n",
        "\n",
        "6. **move**: Moves files.\n",
        "   Example:\n",
        "   ```cmd\n",
        "   move file.txt new_location\\\n",
        "   ```\n",
        "   Moves the specified file to the specified location.\n",
        "\n",
        "7. **echo**: Displays messages or turns command echoing on or off.\n",
        "   Example:\n",
        "   ```cmd\n",
        "   echo Hello, world!\n",
        "   ```\n",
        "   Displays the specified message.\n",
        "\n",
        "8. **type**: Displays the contents of a text file.\n",
        "   Example:\n",
        "   ```cmd\n",
        "   type file.txt\n",
        "   ```\n",
        "   Displays the contents of the specified text file.\n",
        "\n",
        "9. **cls**: Clears the Command Prompt window.\n",
        "   Example:\n",
        "   ```cmd\n",
        "   cls\n",
        "   ```\n",
        "   Clears the Command Prompt window, giving a clean slate.\n",
        "\n",
        "10. **exit**: Exits the Command Prompt.\n",
        "    Example:\n",
        "    ```cmd\n",
        "    exit\n",
        "    ```\n",
        "    Closes the Command Prompt window and returns to the previous environment.\n",
        "\n",
        "These commands are fundamental for navigating and performing tasks within the Command Prompt environment in Windows."
      ],
      "metadata": {
        "id": "y2Jgr-8Hmske"
      }
    },
    {
      "cell_type": "code",
      "source": [],
      "metadata": {
        "id": "oBK7nKy_mvTI"
      },
      "execution_count": null,
      "outputs": []
    },
    {
      "cell_type": "markdown",
      "source": [
        "# Version Control"
      ],
      "metadata": {
        "id": "TPIAqHZPm_yX"
      }
    },
    {
      "cell_type": "markdown",
      "source": [
        "## Analogy of What is Version Control?"
      ],
      "metadata": {
        "id": "813GfhtZpXPL"
      }
    },
    {
      "cell_type": "markdown",
      "source": [
        "Imagine you're working on a complex Lego castle with a friend. You're constantly adding new towers, building bridges, and rearranging rooms. But what if:\n",
        "\n",
        "* You accidentally knock over a section while building something new?\n",
        "* Your friend makes a change you don't like, and you can't remember how it was before?\n",
        "* You both want to build on different parts of the castle at the same time, but worry about stepping on each other's toes?\n",
        "\n",
        "Version control for code is like having a special box of Lego bricks with superpowers! Here's how it works:\n",
        "\n",
        "* Every time you and your friend make a change to the castle (like adding a tower), version control takes a snapshot of the entire castle at that point. This snapshot is called a \"version.\"\n",
        "* Each version has a clear history, showing who made what changes and why.\n",
        "* If you knock something over, you can easily rewind to an earlier version and rebuild from there.\n",
        "* You and your friend can both work on different parts of the castle at the same time. Version control keeps track of everyone's changes and merges them smoothly.\n",
        "\n",
        "Here's how version control makes building your Lego castle (or writing code) much easier:\n",
        "\n",
        "* **Safety net:** Made a mistake? No worries! Just rewind to a previous version and pick up where you left off.\n",
        "* **Collaboration:** Work on the code together without conflicts. Version control shows you exactly who changed what, and helps you merge changes seamlessly.\n",
        "* **History tracking:** See how the code evolved over time, understand why changes were made, and learn from past decisions.\n",
        "* **Experimentation:** Try out new code ideas in a separate \"version\" without affecting the main project. If it doesn't work, you can simply discard that version.\n",
        "\n",
        "Overall, version control helps developers work together efficiently, keeps their code organized, and ensures they never lose track of important changes. It's like a magic box that keeps your Lego castle (or code) safe and sound!"
      ],
      "metadata": {
        "id": "d50VI4Mdpf-k"
      }
    },
    {
      "cell_type": "markdown",
      "source": [],
      "metadata": {
        "id": "I07NlY2RrLet"
      }
    },
    {
      "cell_type": "markdown",
      "source": [
        "## How is it handled in git?\n",
        "\n",
        "Let's break down how Git's functionalities address the specific advantages of version control:\n",
        "\n",
        "**Safety Net (Reverting to previous versions):**\n",
        "\n",
        "* Function: `git checkout` - This command lets you switch back to an earlier saved version of your codebase. Like rewinding your Lego castle build.\n",
        "\n",
        "**Collaboration (Merging Changes):**\n",
        "\n",
        "* Functions:\n",
        "    * `git branch` - Creates a separate copy of your code (like a separate Lego building area for your friend).\n",
        "    * `git merge` - Combines changes from different branches into the main codebase, resolving any conflicts that might arise (like merging your castle additions with your friend's).\n",
        "\n",
        "**History Tracking:**\n",
        "\n",
        "* Functions:\n",
        "    * `git log` - Shows a history of all the changes made to your code, including who made them, when, and a brief message describing the changes (like a logbook recording each building step in your castle).\n",
        "    * `git blame` -  Points to the specific person who last modified a particular line of code (useful for understanding why a certain part of the castle is built the way it is).\n",
        "\n",
        "**Experimentation (Branching):**\n",
        "\n",
        "* Function: `git branch` (mentioned earlier)  - This is key for creating isolated workspaces (separate branches) to try out new code ideas without affecting the main project (like building a cool new tower on a separate Lego baseplate before adding it to the castle).\n",
        "\n",
        "\n",
        "By using these Git functions, developers can leverage the full power of version control to build software efficiently and collaboratively. It's like having a toolbox with the perfect tools for each Lego building challenge!"
      ],
      "metadata": {
        "id": "rwU0sSQwrAYH"
      }
    },
    {
      "cell_type": "code",
      "source": [],
      "metadata": {
        "id": "UTTkDnQXrJ5g"
      },
      "execution_count": null,
      "outputs": []
    },
    {
      "cell_type": "markdown",
      "source": [
        "## Commonly used Git Commands"
      ],
      "metadata": {
        "id": "rMfNATJurf7p"
      }
    },
    {
      "cell_type": "markdown",
      "source": [
        "Here are some of the most commonly used Git commands and their typical use cases:\n",
        "\n",
        "* **git init:** This command initializes a new Git repository in your current directory. It's the first step to start tracking changes to your project's code. (Think of it like laying the foundation for your Lego castle building area.)\n",
        "\n",
        "* **git clone [https://developer.mozilla.org/en-US/docs/Learn/Common_questions/Web_mechanics/What_is_a_URL](https://developer.mozilla.org/en-US/docs/Learn/Common_questions/Web_mechanics/What_is_a_URL):** This command clones an existing Git repository from a remote location (like GitHub) to your local machine. It's like having a blueprint for a Lego castle that you can download and build on your own.\n",
        "\n",
        "* **git add [file(s)]:** This command adds specific files or changes to the staging area, which tells Git which changes you want to include in the next commit. (Imagine selecting the Lego bricks you want to use for the next building step in your castle.)\n",
        "\n",
        "* **git commit -m \"message\":** This command captures the changes you added to the staging area and creates a new commit with a descriptive message. This creates a snapshot of your codebase at that point in time. (Think of it like taking a picture of your completed Lego building stage.)\n",
        "\n",
        "* **git status:** This command shows you the current status of your working directory, including any unstaged changes, staged changes, and untracked files. (It's like checking your Lego building area to see what bricks are used, unused, and what new ones you might have lying around.)\n",
        "\n",
        "* **git branch:** This command lets you see existing branches, create new branches, or delete branches. Branches are like separate workspaces in your codebase where you can try out new features without affecting the main project. (Imagine having separate building areas for your castle's main structure and a potential new tower design.)\n",
        "\n",
        "* **git checkout [branch name]:** This command switches you to a different branch in your local repository.  (Think of it like moving to a different Lego building area to work on a specific part of your castle.)\n",
        "\n",
        "* **git merge [branch name]:** This command combines the changes from one branch into another branch, resolving any conflicts that might arise. (Imagine merging your new tower design into the main castle structure, making sure everything connects smoothly.)\n",
        "\n",
        "* **git pull:** This command fetches changes from a remote repository (like GitHub) and merges them into your local branch. It's like getting updates and improvements from a friend who's also building a Lego castle and incorporating them into your own build.\n",
        "\n",
        "* **git push:** This command pushes your local commits to a remote repository (like GitHub). It's like sharing your Lego castle building progress with others so they can see your work and collaborate.\n",
        "\n",
        "These are just some of the essential Git commands that developers use regularly. By mastering these, you'll have a solid foundation for version control and effective collaboration on software projects."
      ],
      "metadata": {
        "id": "x5x17WqRrjIF"
      }
    },
    {
      "cell_type": "code",
      "source": [],
      "metadata": {
        "id": "ke9Wkii0rq3i"
      },
      "execution_count": null,
      "outputs": []
    },
    {
      "cell_type": "markdown",
      "source": [
        "### Creating and Switching Branches"
      ],
      "metadata": {
        "id": "dQRMPvOYrw01"
      }
    },
    {
      "cell_type": "markdown",
      "source": [
        "All three commands (git checkout, git switch, and git branch) are related to managing branches in Git, but they have some key distinctions:\n",
        "\n",
        "**git branch:**\n",
        "\n",
        "* **Primary function:** Creates, lists, or deletes branches.\n",
        "* **Use case:** When you want to establish a new line of development separate from the main codebase (like creating a separate building area for a new tower section in your Lego castle). You can also use it to view existing branches or remove unused ones.\n",
        "\n",
        "**git checkout:**\n",
        "\n",
        "* **Main function:** Switches branches and optionally checks out files from a specific commit.\n",
        "* **Use case:** This is your workhorse for navigating between branches. You can use it to switch to a different branch and start working on it (like moving to the new tower building area in your Lego castle project). Additionally, it can be used to check out specific files from a particular commit (like grabbing a specific Lego brick version from an earlier building stage).\n",
        "\n",
        "**git switch (introduced in Git v2.23):**\n",
        "\n",
        "* **Function:** Similar to `git checkout`, it primarily switches branches. It can also create new branches and switch to them in one step.\n",
        "* **Use case:** This is a newer, more focused alternative to `git checkout` for switching branches. It offers some safety checks and can be helpful for beginners (like a simpler tool to move between Lego building areas in your castle project).\n",
        "\n",
        "Here's a table summarizing the key differences:\n",
        "\n",
        "| Command | Main Function | Additional Features | Use Case (Lego Analogy) |\n",
        "|---|---|---|---|\n",
        "| git branch | Create, list, or delete branches |  |  Establish separate development lines (create new building areas for castle sections) |\n",
        "| git checkout | Switch branches, optionally checkout files | Can checkout specific commits | Navigate between branches (move to different building areas) |\n",
        "| git switch (v2.23+) | Switch branches (can create new ones) | Safety checks | Simpler branch switching (move between building areas) |\n",
        "\n",
        "**In essence:**\n",
        "\n",
        "* Use `git branch` to manage your branch existence (create, list, or delete).\n",
        "* Use `git checkout` for the core functionality of switching branches and optionally checking out specific files.\n",
        "* Use `git switch` (if using Git v2.23 or later) as a potentially simpler alternative to `git checkout` for switching branches.\n"
      ],
      "metadata": {
        "id": "H0LMrzfysP-c"
      }
    },
    {
      "cell_type": "code",
      "source": [],
      "metadata": {
        "id": "pAX2CbavsTL9"
      },
      "execution_count": null,
      "outputs": []
    },
    {
      "cell_type": "markdown",
      "source": [
        "### Merging of Branches"
      ],
      "metadata": {
        "id": "kur-JjwQbfV7"
      }
    },
    {
      "cell_type": "markdown",
      "source": [
        "Merging in Git is the process of combining changes from different branches into a single branch. Imagine you and a friend are both building separate Lego castle towers (on different branches). At some point, you'll want to connect these towers to create a complete castle (on the main branch). Merging is how you achieve this in Git.\n",
        "\n",
        "Here's a breakdown of the merging process:\n",
        "\n",
        "1. **Identify Branches:** You decide which branches to merge. Typically, you merge a feature branch (your friend's tower) into the main branch (the core castle structure).\n",
        "\n",
        "2. **Find Common Ground:** Git finds the most recent commit that both branches share (a common ancestor). Think of this as the foundation where both your castle sections connect.\n",
        "\n",
        "3. **Three-Way Merge:** Git compares the changes introduced in the feature branch with the current state of the main branch. It essentially does a three-way comparison:\n",
        "   - The common ancestor commit (the foundation).\n",
        "   - The changes in the feature branch (your friend's tower additions).\n",
        "   - The changes in the main branch since the common ancestor (any modifications you made to the core castle structure).\n",
        "\n",
        "4. **Integration and Potential Conflicts:** Git attempts to automatically integrate the changes from the feature branch into the main branch. However, if the same lines of code were modified in both branches (like accidentally placing the same flag on both towers), Git detects a merge conflict.\n",
        "\n",
        "5. **Resolving Conflicts (if any):** In case of conflicts, Git highlights the conflicting sections in the affected files. You'll need to manually edit these files to resolve the conflict and decide which changes to keep (your friend's flag design or yours). Think of it like carefully connecting the towers, deciding how they should fit together seamlessly.\n",
        "\n",
        "6. **Committing the Merge:** Once all conflicts are resolved (or if there were none), you commit the merge. This creates a new commit on the main branch that represents the combined state of both branches (your completed, connected castle).\n",
        "\n",
        "**Benefits of Merging:**\n",
        "\n",
        "* Integrates work from different developers.\n",
        "* Maintains a clean and linear project history.\n",
        "* Allows for collaboration on separate features.\n",
        "\n",
        "**Challenges of Merging:**\n",
        "\n",
        "* Requires careful attention to potential conflicts.\n",
        "* Can be complex for large or frequent merges.\n",
        "\n",
        "By understanding merging, you can effectively collaborate on code projects using Git. It's like having a well-defined process for connecting your Lego creations into a magnificent castle!"
      ],
      "metadata": {
        "id": "IO4nu4c_bkdG"
      }
    },
    {
      "cell_type": "markdown",
      "source": [],
      "metadata": {
        "id": "1nFKHOoPbs5H"
      }
    },
    {
      "cell_type": "markdown",
      "source": [
        "## Difference between Git and GitHub"
      ],
      "metadata": {
        "id": "1SJ7wlepbsuH"
      }
    },
    {
      "cell_type": "markdown",
      "source": [
        "Git and GitHub are two essential tools for software development, but they serve different purposes:\n",
        "\n",
        "**Git:**\n",
        "\n",
        "* **Type:** Version control system (VCS)\n",
        "* **Function:** Tracks changes in computer code (or any set of files) over time.\n",
        "* **Location:** Installed locally on your computer.\n",
        "* **Collaboration:** Can be used collaboratively, but requires additional setup.\n",
        "\n",
        "**Think of Git as a:**\n",
        "\n",
        "* **Notebook:** It keeps a detailed record of all your code's historical versions.\n",
        "* **Toolbox:** It provides commands to add, commit, and manage changes to your codebase.\n",
        "\n",
        "**GitHub:**\n",
        "\n",
        "* **Type:** Web-based Git repository hosting service\n",
        "* **Function:** Stores Git repositories (projects) online and provides collaboration features.\n",
        "* **Location:** Accessed through a web interface or desktop app.\n",
        "* **Collaboration:** Designed specifically for collaborative development.\n",
        "\n",
        "**Think of GitHub as a:**\n",
        "\n",
        "* **Cloud storage:** It securely stores your Git repositories (tomes) online.\n",
        "* **Collaboration platform:** It offers features like code sharing, issue tracking, and pull requests to streamline teamwork.\n",
        "\n",
        "Here's a table summarizing the key differences:\n",
        "\n",
        "| Feature                 | Git                                  | GitHub                                     |\n",
        "|--------------------------|--------------------------------------|----------------------------------------------|\n",
        "| Type                     | Version control system (VCS)        | Web-based Git repository hosting service   |\n",
        "| Location                 | Installed locally on your computer   | Accessed through web or desktop application  |\n",
        "| Functionality            | Tracks code changes, version control  | Stores Git repositories, collaboration features |\n",
        "| Collaboration             | Requires additional setup            | Designed for collaborative development        |\n",
        "| Analogy (code)           | Notebook (keeps historical versions)      | Cloud storage (stores tomes online)           |\n",
        "| Analogy (collaboration) | Toolbox (commands for managing code) | Platform (features for teamwork)               |\n",
        "\n",
        "**In essence:**\n",
        "\n",
        "* You use Git to manage your code versions locally.\n",
        "* You can use GitHub to store your Git repositories online and collaborate with others.\n",
        "\n",
        "While Git provides the core functionality for version control, GitHub leverages Git's power and adds features specifically designed for collaborative development. You can think of them as working together: Git under the hood and GitHub providing a user-friendly interface for managing and sharing your Git projects."
      ],
      "metadata": {
        "id": "sXewJZO3cclU"
      }
    },
    {
      "cell_type": "code",
      "source": [],
      "metadata": {
        "id": "Q-fqTGNuceGC"
      },
      "execution_count": null,
      "outputs": []
    },
    {
      "cell_type": "markdown",
      "source": [
        "## Pull Requests on GitHub"
      ],
      "metadata": {
        "id": "tvyTZrqVcq0m"
      }
    },
    {
      "cell_type": "markdown",
      "source": [
        "Pull requests, often abbreviated as PRs, are a core collaboration feature of GitHub. Imagine you're working on a giant Lego spaceship with a friend, and you've made some cool new modifications – maybe a tricked-out engine or a redesigned bridge. A pull request is a way to formally propose these changes to the main spaceship design.\n",
        "\n",
        "Here's how pull requests work on GitHub:\n",
        "\n",
        "1. **Create a Branch:** You've been working on your spaceship changes in a separate \"branch\" on GitHub. This branch is like a copy of the main design where you can experiment freely without messing with the original.\n",
        "\n",
        "2. **Push Your Changes:** Once you're happy with your new engine and bridge, you \"push\" your changes from your branch to GitHub. This doesn't directly affect the main design yet.\n",
        "\n",
        "3. **Open a Pull Request:** Now comes the pull request! You create a pull request on GitHub, highlighting the changes you made and explaining why they're awesome (like improved speed for the engine and better functionality for the bridge).\n",
        "\n",
        "4. **Review and Discussion:**  This is where your friend comes in. They can see your pull request, review the changes you made to the spaceship design, and even leave comments or suggestions. It's like them examining your new engine and bridge to see if they work well and fit the overall design.\n",
        "\n",
        "5. **Merge or Close:** Based on the review, there are two options:\n",
        "   - **Merge:** If your friend likes your changes, they can \"merge\" your pull request. This integrates your engine and bridge updates into the main spaceship design, making them part of the official blueprint. It's like them approving your modifications and incorporating them into the final spaceship.\n",
        "   - **Close:** If your friend has suggestions or improvements, they might ask you to make changes and then resubmit the pull request. It's like them giving you feedback on how to fine-tune your engine or bridge design before officially adding them.\n",
        "\n",
        "**Benefits of Pull Requests:**\n",
        "\n",
        "* **Improved code quality:** Reviews by your friend can help catch errors or suggest improvements.\n",
        "* **Better collaboration:**  Discuss changes and make informed decisions together.\n",
        "* **Clear history:** Track changes and see how the spaceship design evolved.\n",
        "\n",
        "Pull requests are like a safety net and a communication channel for collaborative development on GitHub. They ensure everyone's on the same page and contribute to building the best Lego spaceship possible!"
      ],
      "metadata": {
        "id": "x1Up8LqPdEDg"
      }
    },
    {
      "cell_type": "code",
      "source": [],
      "metadata": {
        "id": "jxK1SJZkdGCp"
      },
      "execution_count": null,
      "outputs": []
    },
    {
      "cell_type": "markdown",
      "source": [
        "## Perform Git Checkout on a Particular Commit"
      ],
      "metadata": {
        "id": "weO21cvfdnT4"
      }
    },
    {
      "cell_type": "markdown",
      "source": [
        "There are two main ways to switch to a specific commit in Git:\n",
        "\n",
        "1. **Using `git checkout`:**\n",
        "\n",
        "This is the most common approach and allows you to detach your HEAD from the current branch and move it to a specific commit.\n",
        "\n",
        "Here's how it works:\n",
        "\n",
        "   - Open a terminal window and navigate to your Git repository directory.\n",
        "   - Identify the commit hash of the commit you want to switch to. You can find this hash in your Git history using `git log`.\n",
        "   - Run the following command, replacing `<commit_hash>` with the actual hash:\n",
        "\n",
        "   ```bash\n",
        "   git checkout <commit_hash>\n",
        "   ```\n",
        "\n",
        "   This will switch your working directory to the state it was in at that specific commit. Any changes made after that commit won't be reflected.\n",
        "\n",
        "**Important Note:**\n",
        "\n",
        "* By using `git checkout` in this way, you detach your HEAD. This means you're not currently on any branch. Any changes you make won't be tracked by a branch unless you create a new one from that commit.\n",
        "\n",
        "2. **Using `git checkout -b <branch_name> <commit_hash>` (recommended if making changes):**\n",
        "\n",
        "This approach is recommended if you want to make changes based on that specific commit and keep them tracked in a new branch.\n",
        "\n",
        "Here's how it works:\n",
        "\n",
        "   - Follow steps 1 and 2 from the first method to identify the commit hash.\n",
        "   - Run the following command, replacing `<branch_name>` with your desired branch name and `<commit_hash>` with the actual hash:\n",
        "\n",
        "   ```bash\n",
        "   git checkout -b <branch_name> <commit_hash>\n",
        "   ```\n",
        "\n",
        "   This command does two things:\n",
        "     - Creates a new branch named `<branch_name>` starting at the specified commit (`<commit_hash>`).\n",
        "     - Switches your working directory to the newly created branch.\n",
        "\n",
        "Now you can make changes based on that specific commit, and they will be tracked in your new branch. You can then commit your changes and potentially merge them back into the main branch later.\n"
      ],
      "metadata": {
        "id": "Hm8V2tsedsti"
      }
    },
    {
      "cell_type": "code",
      "source": [],
      "metadata": {
        "id": "CjQlfpjgdvfn"
      },
      "execution_count": null,
      "outputs": []
    },
    {
      "cell_type": "markdown",
      "source": [
        "## Merge Conflicts"
      ],
      "metadata": {
        "id": "Y1Y3vmKMd5Oh"
      }
    },
    {
      "cell_type": "markdown",
      "source": [
        "**Scenario:**\n",
        "\n",
        "Imagine you and a teammate are working on a Python script that calculates the area of different shapes. You're both using Git for version control.\n",
        "\n",
        "1. **Independent Development:**\n",
        "\n",
        "   - You decide to add a function to calculate the area of a circle (`calculate_circle_area`). (Code change A)\n",
        "   - Your teammate focuses on improving the existing function for calculating the area of a rectangle (`calculate_rectangle_area`), making it more efficient. (Code change B)\n",
        "\n",
        "   You both happily commit your changes to your local Git repositories.\n",
        "\n",
        "2. **Merging Mayhem:**\n",
        "\n",
        "Now, it's time to merge your changes into the main codebase (master branch). This is where the conflict might arise:\n",
        "\n",
        "   - The version control system detects a clash! Both of you modified the same Python file: \"shapes.py.\" The conflict occurs specifically within the code block that defines functions.\n",
        "\n",
        "3. **Resolving the Conflict:**\n",
        "\n",
        "Your Git client displays the conflicting sections:\n",
        "\n",
        "```python\n",
        "def calculate_rectangle_area(length, width):\n",
        "    \"\"\"Calculates the area of a rectangle.\"\"\"\n",
        "    <<<<<<< HEAD (your branch)\n",
        "    # Your improved efficiency logic for rectangle area (code change B from teammate)\n",
        "    =======\n",
        "    return length * width\n",
        "    >>>>>>> origin/master (master branch)\n",
        "\n",
        "def calculate_circle_area(radius):\n",
        "    \"\"\"Calculates the area of a circle.\"\"\"\n",
        "    # Your code for circle area calculation (code change A)\n",
        "```\n",
        "\n",
        "- The markers `<<<<<<<` and `>>>>>>>` indicate the beginning and end of conflicting sections from your branch (HEAD) and the master branch (origin/master).\n",
        "\n",
        "4. **Developer Discussion:**\n",
        "\n",
        "Now it's up to you and your teammate to decide how to resolve the conflict. Here's what you might discuss:\n",
        "\n",
        "   - **Team Efficiency:** You both agree your teammate's efficiency improvement for the rectangle area calculation is valuable. You decide to keep their change (code change B) and integrate your circle area calculation function (code change A) below it.\n",
        "\n",
        "5. **Committing the Fix:**\n",
        "\n",
        "Once you've agreed on the final code, you'll manually edit the \"shapes.py\" file to reflect the combined changes:\n",
        "\n",
        "```python\n",
        "def calculate_rectangle_area(length, width):\n",
        "    \"\"\"Calculates the area of a rectangle.\"\"\"\n",
        "    # Your teammate's improved efficiency logic for rectangle area (code change B)\n",
        "\n",
        "def calculate_circle_area(radius):\n",
        "    \"\"\"Calculates the area of a circle.\"\"\"\n",
        "    # Your code for circle area calculation (code change A)\n",
        "```\n",
        "\n",
        "Then, you commit the merged changes back to the main codebase.\n",
        "\n",
        "**Key Points:**\n",
        "\n",
        "- Merge conflicts occur when changes are made to the same section of code in different branches.\n",
        "- Version control identifies conflicts but doesn't resolve them automatically.\n",
        "- Developers need to communicate and collaborate to decide on the best way to merge changes.\n",
        "- Editing the code manually and committing the merged version resolves the conflict.\n"
      ],
      "metadata": {
        "id": "xysNkcf6fgf4"
      }
    },
    {
      "cell_type": "code",
      "source": [],
      "metadata": {
        "id": "99uq0kpOfjvH"
      },
      "execution_count": null,
      "outputs": []
    },
    {
      "cell_type": "markdown",
      "source": [
        "# Project Template"
      ],
      "metadata": {
        "id": "Fq3ShvRPfl6V"
      }
    },
    {
      "cell_type": "markdown",
      "source": [
        "## Cookiecutter"
      ],
      "metadata": {
        "id": "n5tpOultfneq"
      }
    },
    {
      "cell_type": "markdown",
      "source": [
        "Cookiecutter is a project template specifically designed to automate the creation of new projects. It's essentially a pre-configured directory structure and files that you can use as a starting point for various software projects.\n",
        "\n",
        "Here's how Cookiecutter works:\n",
        "\n",
        "1. **Template Definition:** Developers create Cookiecutter templates as repositories containing the desired project structure, files, and configurations. These templates can be generic or specific to a programming language or framework.\n",
        "2. **Project Creation:** When you want to start a new project, you use the Cookiecutter command-line tool. It prompts you to fill in details like project name and preferences based on the template's configuration.\n",
        "3. **Project Generation:** Cookiecutter uses your input to automatically generate a new project directory with the pre-defined structure, populated with customized files from the template.\n",
        "\n",
        "In essence, Cookiecutter saves you time and effort by eliminating the need to manually set up the basic project scaffolding every time you start something new.\n"
      ],
      "metadata": {
        "id": "57CCvmHbf9xT"
      }
    },
    {
      "cell_type": "markdown",
      "source": [
        "[Cookiecutter Docs](https://drivendata.github.io/cookiecutter-data-science/)\n",
        "\n",
        "[Cookiecutter GitHub](https://github.com/drivendata/cookiecutter-data-science)"
      ],
      "metadata": {
        "id": "x6GRD8mWf_bA"
      }
    },
    {
      "cell_type": "code",
      "source": [],
      "metadata": {
        "id": "GKRX0AtEgkfY"
      },
      "execution_count": null,
      "outputs": []
    }
  ]
}